{
 "cells": [
  {
   "cell_type": "code",
   "execution_count": 37,
   "id": "268202e1-e378-41b0-b9b8-844b9f237c03",
   "metadata": {},
   "outputs": [],
   "source": [
    "import requests\n",
    "from bs4 import BeautifulSoup\n",
    "import pandas as pd\n"
   ]
  },
  {
   "cell_type": "code",
   "execution_count": 39,
   "id": "ccf91970-eeaa-4b47-b996-111d272ddb71",
   "metadata": {},
   "outputs": [],
   "source": [
    "url=\"https://clevershop.mk/\""
   ]
  },
  {
   "cell_type": "code",
   "execution_count": 41,
   "id": "004e7134-53e3-4977-8bbf-ef5425478da1",
   "metadata": {},
   "outputs": [],
   "source": [
    "response=requests.get(url)"
   ]
  },
  {
   "cell_type": "code",
   "execution_count": 42,
   "id": "fc7be175-a862-4bca-ac42-7ae95095aed4",
   "metadata": {},
   "outputs": [
    {
     "data": {
      "text/plain": [
       "<Response [200]>"
      ]
     },
     "execution_count": 42,
     "metadata": {},
     "output_type": "execute_result"
    }
   ],
   "source": [
    "response"
   ]
  },
  {
   "cell_type": "code",
   "execution_count": 61,
   "id": "36252a12-7708-4526-8414-e8e9c160c284",
   "metadata": {},
   "outputs": [],
   "source": [
    "raw_html=response.text"
   ]
  },
  {
   "cell_type": "code",
   "execution_count": 47,
   "id": "3e4a250d-d945-4604-9161-fe469df8d8d0",
   "metadata": {},
   "outputs": [],
   "source": [
    "soup=BeautifulSoup(raw_html, \"html.parser\")"
   ]
  },
  {
   "cell_type": "code",
   "execution_count": 49,
   "id": "9efa17be-6bae-4e9c-b449-e4b5196267b7",
   "metadata": {},
   "outputs": [],
   "source": [
    "products=[]"
   ]
  },
  {
   "cell_type": "code",
   "execution_count": 51,
   "id": "39a04de5-d616-4752-accb-6aaaca00f9f1",
   "metadata": {},
   "outputs": [],
   "source": [
    "products_list=soup.select(\".product-grid-item\")"
   ]
  },
  {
   "cell_type": "code",
   "execution_count": 67,
   "id": "c47bb6dd-34f1-484c-83d1-c07778fdfec3",
   "metadata": {},
   "outputs": [],
   "source": [
    "\n",
    "for product in products_list:\n",
    "    title=product.select_one(\".wd-entities-title\").text.strip() \n",
    "    prices=product.select(\".woocommerce-Price-amount\")\n",
    "    regular_price=prices[0]\n",
    "    if regular_price is not None:\n",
    "        regular_price=regular_price.text.strip() \n",
    "    discount_price=None\n",
    "    if len(prices)> 1 :\n",
    "        discount_price=prices[1].text.strip() \n",
    "    url_element = product.select_one(\".wd-entities-title a\")\n",
    "    product_url = url_element.get(\"href\") if url_element else None\n",
    "\n",
    "    btn_element = product.select_one(\".add_to_cart_button a\")\n",
    "    btn = btn_element.get(\"href\") if btn_element else None\n",
    "\n",
    "    product_dict = {\n",
    "    \"ProductName\": title,\n",
    "    \"Regular Price\": regular_price,\n",
    "    \"Discount Price\": discount_price,\n",
    "    \"URL\": product_url,\n",
    "    \"AddToCartURL\": btn\n",
    "    }\n",
    "\n",
    "    products.append(product_dict)\n",
    "    "
   ]
  },
  {
   "cell_type": "code",
   "execution_count": 69,
   "id": "c48ecb49-5659-4ffd-88e4-e72b5e519db6",
   "metadata": {},
   "outputs": [],
   "source": [
    "df=pd.DataFrame(products)"
   ]
  },
  {
   "cell_type": "code",
   "execution_count": 71,
   "id": "7ffb6ee3-bb93-49cb-9b85-d496eafb2bdd",
   "metadata": {},
   "outputs": [
    {
     "data": {
      "text/html": [
       "<div>\n",
       "<style scoped>\n",
       "    .dataframe tbody tr th:only-of-type {\n",
       "        vertical-align: middle;\n",
       "    }\n",
       "\n",
       "    .dataframe tbody tr th {\n",
       "        vertical-align: top;\n",
       "    }\n",
       "\n",
       "    .dataframe thead th {\n",
       "        text-align: right;\n",
       "    }\n",
       "</style>\n",
       "<table border=\"1\" class=\"dataframe\">\n",
       "  <thead>\n",
       "    <tr style=\"text-align: right;\">\n",
       "      <th></th>\n",
       "      <th>ProductName</th>\n",
       "      <th>Regular Price</th>\n",
       "      <th>Discount Price</th>\n",
       "      <th>URL</th>\n",
       "      <th>AddToCartURL</th>\n",
       "    </tr>\n",
       "  </thead>\n",
       "  <tbody>\n",
       "    <tr>\n",
       "      <th>0</th>\n",
       "      <td>SAMSUNG Galaxy A22 128GB 6GB RAM</td>\n",
       "      <td>18.490 ден</td>\n",
       "      <td>None</td>\n",
       "      <td>https://clevershop.mk/product/samsung-galaxy-a...</td>\n",
       "      <td>None</td>\n",
       "    </tr>\n",
       "    <tr>\n",
       "      <th>1</th>\n",
       "      <td>Samsung Galaxy Z Flip3 5G 128GB 8GB RAM</td>\n",
       "      <td>49.990 ден</td>\n",
       "      <td>43.990 ден</td>\n",
       "      <td>https://clevershop.mk/product/samsung-galaxy-z...</td>\n",
       "      <td>None</td>\n",
       "    </tr>\n",
       "    <tr>\n",
       "      <th>2</th>\n",
       "      <td>Xiaomi Poco M4 Pro 5G 64GB 4GB RAM</td>\n",
       "      <td>13.990 ден</td>\n",
       "      <td>12.990 ден</td>\n",
       "      <td>https://clevershop.mk/product/xiaomi-poco-m4-p...</td>\n",
       "      <td>None</td>\n",
       "    </tr>\n",
       "    <tr>\n",
       "      <th>3</th>\n",
       "      <td>Huawei P50 Pro 256GB 8GB RAM</td>\n",
       "      <td>71.990 ден</td>\n",
       "      <td>None</td>\n",
       "      <td>https://clevershop.mk/product/huawei-p50-pro-2...</td>\n",
       "      <td>None</td>\n",
       "    </tr>\n",
       "    <tr>\n",
       "      <th>4</th>\n",
       "      <td>Samsung Galaxy S21+ 5G 128GB 8GB RAM</td>\n",
       "      <td>49.490 ден</td>\n",
       "      <td>None</td>\n",
       "      <td>https://clevershop.mk/product/samsung-galaxy-s...</td>\n",
       "      <td>None</td>\n",
       "    </tr>\n",
       "    <tr>\n",
       "      <th>...</th>\n",
       "      <td>...</td>\n",
       "      <td>...</td>\n",
       "      <td>...</td>\n",
       "      <td>...</td>\n",
       "      <td>...</td>\n",
       "    </tr>\n",
       "    <tr>\n",
       "      <th>59</th>\n",
       "      <td>СЕТ КИЛИМАНЏАРО БЕЛА 9056728</td>\n",
       "      <td>12.750 ден</td>\n",
       "      <td>None</td>\n",
       "      <td>https://clevershop.mk/product/%d1%81%d0%b5%d1%...</td>\n",
       "      <td>None</td>\n",
       "    </tr>\n",
       "    <tr>\n",
       "      <th>60</th>\n",
       "      <td>Intex PURESPA JET AND BUBBLE DELUXE</td>\n",
       "      <td>89.990 ден</td>\n",
       "      <td>None</td>\n",
       "      <td>https://clevershop.mk/product/intex-purespa-je...</td>\n",
       "      <td>None</td>\n",
       "    </tr>\n",
       "    <tr>\n",
       "      <th>61</th>\n",
       "      <td>ТЕНДА 3Х3 М ЗЕЛЕНА ПВЦ 09037274</td>\n",
       "      <td>2.790 ден</td>\n",
       "      <td>None</td>\n",
       "      <td>https://clevershop.mk/product/%d1%82%d0%b5%d0%...</td>\n",
       "      <td>None</td>\n",
       "    </tr>\n",
       "    <tr>\n",
       "      <th>62</th>\n",
       "      <td>ЛЕЖАЛКА АРИЗОНА БЕЛА 9021305</td>\n",
       "      <td>2.360 ден</td>\n",
       "      <td>None</td>\n",
       "      <td>https://clevershop.mk/product/%d0%bb%d0%b5%d0%...</td>\n",
       "      <td>None</td>\n",
       "    </tr>\n",
       "    <tr>\n",
       "      <th>63</th>\n",
       "      <td>СЕТ ВЕРАНДА АНТРАЦИТ БЕЗ ПЕРНИЦИ 9026209</td>\n",
       "      <td>7.990 ден</td>\n",
       "      <td>None</td>\n",
       "      <td>https://clevershop.mk/product/%d1%81%d0%b5%d1%...</td>\n",
       "      <td>None</td>\n",
       "    </tr>\n",
       "  </tbody>\n",
       "</table>\n",
       "<p>64 rows × 5 columns</p>\n",
       "</div>"
      ],
      "text/plain": [
       "                                 ProductName Regular Price Discount Price  \\\n",
       "0           SAMSUNG Galaxy A22 128GB 6GB RAM    18.490 ден           None   \n",
       "1    Samsung Galaxy Z Flip3 5G 128GB 8GB RAM    49.990 ден     43.990 ден   \n",
       "2         Xiaomi Poco M4 Pro 5G 64GB 4GB RAM    13.990 ден     12.990 ден   \n",
       "3               Huawei P50 Pro 256GB 8GB RAM    71.990 ден           None   \n",
       "4       Samsung Galaxy S21+ 5G 128GB 8GB RAM    49.490 ден           None   \n",
       "..                                       ...           ...            ...   \n",
       "59              СЕТ КИЛИМАНЏАРО БЕЛА 9056728    12.750 ден           None   \n",
       "60       Intex PURESPA JET AND BUBBLE DELUXE    89.990 ден           None   \n",
       "61           ТЕНДА 3Х3 М ЗЕЛЕНА ПВЦ 09037274     2.790 ден           None   \n",
       "62              ЛЕЖАЛКА АРИЗОНА БЕЛА 9021305     2.360 ден           None   \n",
       "63  СЕТ ВЕРАНДА АНТРАЦИТ БЕЗ ПЕРНИЦИ 9026209     7.990 ден           None   \n",
       "\n",
       "                                                  URL AddToCartURL  \n",
       "0   https://clevershop.mk/product/samsung-galaxy-a...         None  \n",
       "1   https://clevershop.mk/product/samsung-galaxy-z...         None  \n",
       "2   https://clevershop.mk/product/xiaomi-poco-m4-p...         None  \n",
       "3   https://clevershop.mk/product/huawei-p50-pro-2...         None  \n",
       "4   https://clevershop.mk/product/samsung-galaxy-s...         None  \n",
       "..                                                ...          ...  \n",
       "59  https://clevershop.mk/product/%d1%81%d0%b5%d1%...         None  \n",
       "60  https://clevershop.mk/product/intex-purespa-je...         None  \n",
       "61  https://clevershop.mk/product/%d1%82%d0%b5%d0%...         None  \n",
       "62  https://clevershop.mk/product/%d0%bb%d0%b5%d0%...         None  \n",
       "63  https://clevershop.mk/product/%d1%81%d0%b5%d1%...         None  \n",
       "\n",
       "[64 rows x 5 columns]"
      ]
     },
     "execution_count": 71,
     "metadata": {},
     "output_type": "execute_result"
    }
   ],
   "source": [
    "df"
   ]
  },
  {
   "cell_type": "code",
   "execution_count": 73,
   "id": "4938c4ba-2933-4463-a23c-d95535f24c09",
   "metadata": {},
   "outputs": [],
   "source": [
    "df.to_csv(\"lab1.csv\", index=False)"
   ]
  },
  {
   "cell_type": "code",
   "execution_count": null,
   "id": "37502643-9b70-4ffa-9bce-26e19887f524",
   "metadata": {},
   "outputs": [],
   "source": []
  }
 ],
 "metadata": {
  "kernelspec": {
   "display_name": "Python 3 (ipykernel)",
   "language": "python",
   "name": "python3"
  },
  "language_info": {
   "codemirror_mode": {
    "name": "ipython",
    "version": 3
   },
   "file_extension": ".py",
   "mimetype": "text/x-python",
   "name": "python",
   "nbconvert_exporter": "python",
   "pygments_lexer": "ipython3",
   "version": "3.12.4"
  }
 },
 "nbformat": 4,
 "nbformat_minor": 5
}
